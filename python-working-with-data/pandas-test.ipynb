{
 "cells": [
  {
   "cell_type": "code",
   "execution_count": 2,
   "id": "3504109a-bc2f-46fd-9bb5-a338510b542a",
   "metadata": {},
   "outputs": [
    {
     "name": "stdout",
     "output_type": "stream",
     "text": [
      "0    85\n",
      "1    90\n",
      "2    78\n",
      "dtype: int64\n"
     ]
    }
   ],
   "source": [
    "import pandas as pd\n",
    "\n",
    "scores = [85, 90, 78]\n",
    "series1 = pd.Series(scores)\n",
    "print(series1)\n"
   ]
  },
  {
   "cell_type": "code",
   "execution_count": 3,
   "id": "14a91026-c808-43be-9fd8-9dc0591c149a",
   "metadata": {},
   "outputs": [
    {
     "name": "stdout",
     "output_type": "stream",
     "text": [
      "Ahmad    85\n",
      "Lina     90\n",
      "Sara     78\n",
      "dtype: int64\n"
     ]
    }
   ],
   "source": [
    "series2 = pd.Series([85, 90, 78], index=[\"Ahmad\", \"Lina\", \"Sara\"])\n",
    "print(series2)\n"
   ]
  },
  {
   "cell_type": "code",
   "execution_count": 4,
   "id": "ba4eedf0-5bad-4bc1-b5e3-1ebbdb7a4d92",
   "metadata": {},
   "outputs": [
    {
     "name": "stdout",
     "output_type": "stream",
     "text": [
      "90\n",
      "84.33333333333333\n",
      "Ahmad     True\n",
      "Lina      True\n",
      "Sara     False\n",
      "dtype: bool\n"
     ]
    }
   ],
   "source": [
    "print(series2[\"Lina\"])     # 90\n",
    "print(series2.mean())      # Average\n",
    "print(series2 > 80)        # Boolean filter\n"
   ]
  },
  {
   "cell_type": "code",
   "execution_count": 5,
   "id": "5ff07060-abd2-4d85-afeb-605aa4e62e97",
   "metadata": {},
   "outputs": [
    {
     "name": "stdout",
     "output_type": "stream",
     "text": [
      "    Name  Score  Passed\n",
      "0  Ahmad     85    True\n",
      "1   Lina     90    True\n",
      "2   Sara     78   False\n"
     ]
    }
   ],
   "source": [
    "data = {\n",
    "    \"Name\": [\"Ahmad\", \"Lina\", \"Sara\"],\n",
    "    \"Score\": [85, 90, 78],\n",
    "    \"Passed\": [True, True, False]\n",
    "}\n",
    "df = pd.DataFrame(data)\n",
    "print(df)\n"
   ]
  },
  {
   "cell_type": "code",
   "execution_count": 6,
   "id": "33f27fb2-ca83-4877-8525-1ac3c37d3928",
   "metadata": {},
   "outputs": [
    {
     "name": "stdout",
     "output_type": "stream",
     "text": [
      "0    Ahmad\n",
      "1     Lina\n",
      "2     Sara\n",
      "Name: Name, dtype: object\n",
      "    Name  Score\n",
      "0  Ahmad     85\n",
      "1   Lina     90\n",
      "2   Sara     78\n",
      "Name      Ahmad\n",
      "Score        85\n",
      "Passed     True\n",
      "Name: 0, dtype: object\n",
      "Name      Lina\n",
      "Score       90\n",
      "Passed    True\n",
      "Name: 1, dtype: object\n",
      "    Name  Score  Passed\n",
      "0  Ahmad     85    True\n",
      "1   Lina     90    True\n"
     ]
    }
   ],
   "source": [
    "print(df[\"Name\"])        # Single column (Series)\n",
    "print(df[[\"Name\", \"Score\"]])  # Multiple columns\n",
    "\n",
    "print(df.iloc[0])        # Row by position\n",
    "print(df.loc[1])         # Row by label (index = 1)\n",
    "\n",
    "print(df[df[\"Score\"] > 80])  # Filtered DataFrame\n"
   ]
  },
  {
   "cell_type": "code",
   "execution_count": 7,
   "id": "a5569231-37d6-48fa-925d-2aa5c3abdd0d",
   "metadata": {},
   "outputs": [
    {
     "name": "stdout",
     "output_type": "stream",
     "text": [
      "    Name  Score  Age\n",
      "a  Ahmad     85   22\n",
      "b   Lina     90   21\n",
      "c   Sara     78   23\n"
     ]
    }
   ],
   "source": [
    "import pandas as pd\n",
    "\n",
    "# Create DataFrame with custom index labels\n",
    "df = pd.DataFrame({\n",
    "    \"Name\": [\"Ahmad\", \"Lina\", \"Sara\"],\n",
    "    \"Score\": [85, 90, 78],\n",
    "    \"Age\": [22, 21, 23]\n",
    "}, index=[\"a\", \"b\", \"c\"])\n",
    "\n",
    "print(df)\n"
   ]
  },
  {
   "cell_type": "code",
   "execution_count": 16,
   "id": "205baa35-4e29-40a1-a437-429423418c2d",
   "metadata": {},
   "outputs": [
    {
     "data": {
      "text/plain": [
       "Name     Ahmad\n",
       "Score       85\n",
       "Age         22\n",
       "Name: a, dtype: object"
      ]
     },
     "execution_count": 16,
     "metadata": {},
     "output_type": "execute_result"
    }
   ],
   "source": [
    "#1. Get row with label \"a\"\n",
    "df.loc[\"a\"]\n"
   ]
  },
  {
   "cell_type": "code",
   "execution_count": 17,
   "id": "3f7dc3ac-81f2-49ca-9074-f3023534f556",
   "metadata": {},
   "outputs": [
    {
     "data": {
      "text/html": [
       "<div>\n",
       "<style scoped>\n",
       "    .dataframe tbody tr th:only-of-type {\n",
       "        vertical-align: middle;\n",
       "    }\n",
       "\n",
       "    .dataframe tbody tr th {\n",
       "        vertical-align: top;\n",
       "    }\n",
       "\n",
       "    .dataframe thead th {\n",
       "        text-align: right;\n",
       "    }\n",
       "</style>\n",
       "<table border=\"1\" class=\"dataframe\">\n",
       "  <thead>\n",
       "    <tr style=\"text-align: right;\">\n",
       "      <th></th>\n",
       "      <th>Name</th>\n",
       "      <th>Score</th>\n",
       "      <th>Age</th>\n",
       "    </tr>\n",
       "  </thead>\n",
       "  <tbody>\n",
       "    <tr>\n",
       "      <th>a</th>\n",
       "      <td>Ahmad</td>\n",
       "      <td>85</td>\n",
       "      <td>22</td>\n",
       "    </tr>\n",
       "    <tr>\n",
       "      <th>b</th>\n",
       "      <td>Lina</td>\n",
       "      <td>90</td>\n",
       "      <td>21</td>\n",
       "    </tr>\n",
       "  </tbody>\n",
       "</table>\n",
       "</div>"
      ],
      "text/plain": [
       "    Name  Score  Age\n",
       "a  Ahmad     85   22\n",
       "b   Lina     90   21"
      ]
     },
     "execution_count": 17,
     "metadata": {},
     "output_type": "execute_result"
    }
   ],
   "source": [
    "#2. Get rows from \"a\" to \"b\" (inclusive!)\n",
    "df.loc[\"a\":\"b\"]\n"
   ]
  },
  {
   "cell_type": "code",
   "execution_count": 18,
   "id": "f23a455c-a407-4576-bdaa-b4c9047c7d9d",
   "metadata": {},
   "outputs": [
    {
     "data": {
      "text/plain": [
       "a    85\n",
       "b    90\n",
       "c    78\n",
       "Name: Score, dtype: int64"
      ]
     },
     "execution_count": 18,
     "metadata": {},
     "output_type": "execute_result"
    }
   ],
   "source": [
    "#3. Get \"Score\" column for all rows\n",
    "df.loc[:, \"Score\"]\n"
   ]
  },
  {
   "cell_type": "code",
   "execution_count": 19,
   "id": "3e003057-6bd0-47d9-aec8-4581f1b8328b",
   "metadata": {},
   "outputs": [
    {
     "data": {
      "text/plain": [
       "Name    Lina\n",
       "Age       21\n",
       "Name: b, dtype: object"
      ]
     },
     "execution_count": 19,
     "metadata": {},
     "output_type": "execute_result"
    }
   ],
   "source": [
    "#4. Get \"Name\" and \"Age\" columns for label \"b\"\n",
    "df.loc[\"b\", [\"Name\", \"Age\"]]\n"
   ]
  },
  {
   "cell_type": "code",
   "execution_count": 20,
   "id": "d0628115-db03-411a-b9c4-b395149fdf25",
   "metadata": {},
   "outputs": [
    {
     "data": {
      "text/plain": [
       "Name     Ahmad\n",
       "Score       85\n",
       "Age         22\n",
       "Name: a, dtype: object"
      ]
     },
     "execution_count": 20,
     "metadata": {},
     "output_type": "execute_result"
    }
   ],
   "source": [
    "#1. Get row at position 0\n",
    "df.iloc[0]\n"
   ]
  },
  {
   "cell_type": "code",
   "execution_count": 21,
   "id": "a13b99f7-a5f1-46c9-9ef4-d323528aeade",
   "metadata": {},
   "outputs": [
    {
     "data": {
      "text/html": [
       "<div>\n",
       "<style scoped>\n",
       "    .dataframe tbody tr th:only-of-type {\n",
       "        vertical-align: middle;\n",
       "    }\n",
       "\n",
       "    .dataframe tbody tr th {\n",
       "        vertical-align: top;\n",
       "    }\n",
       "\n",
       "    .dataframe thead th {\n",
       "        text-align: right;\n",
       "    }\n",
       "</style>\n",
       "<table border=\"1\" class=\"dataframe\">\n",
       "  <thead>\n",
       "    <tr style=\"text-align: right;\">\n",
       "      <th></th>\n",
       "      <th>Name</th>\n",
       "      <th>Score</th>\n",
       "      <th>Age</th>\n",
       "    </tr>\n",
       "  </thead>\n",
       "  <tbody>\n",
       "    <tr>\n",
       "      <th>a</th>\n",
       "      <td>Ahmad</td>\n",
       "      <td>85</td>\n",
       "      <td>22</td>\n",
       "    </tr>\n",
       "    <tr>\n",
       "      <th>b</th>\n",
       "      <td>Lina</td>\n",
       "      <td>90</td>\n",
       "      <td>21</td>\n",
       "    </tr>\n",
       "  </tbody>\n",
       "</table>\n",
       "</div>"
      ],
      "text/plain": [
       "    Name  Score  Age\n",
       "a  Ahmad     85   22\n",
       "b   Lina     90   21"
      ]
     },
     "execution_count": 21,
     "metadata": {},
     "output_type": "execute_result"
    }
   ],
   "source": [
    "#2. Get first two rows (positions 0 and 1)\n",
    "df.iloc[0:2]\n"
   ]
  },
  {
   "cell_type": "code",
   "execution_count": 22,
   "id": "8348d3ef-e930-4544-8a54-253955cba707",
   "metadata": {},
   "outputs": [
    {
     "data": {
      "text/plain": [
       "a    85\n",
       "b    90\n",
       "c    78\n",
       "Name: Score, dtype: int64"
      ]
     },
     "execution_count": 22,
     "metadata": {},
     "output_type": "execute_result"
    }
   ],
   "source": [
    "#3. Get column at position 1 (Score)\n",
    "df.iloc[:, 1]\n"
   ]
  },
  {
   "cell_type": "code",
   "execution_count": 23,
   "id": "00cc0e07-3712-49f8-9d19-28c35826c3aa",
   "metadata": {},
   "outputs": [
    {
     "data": {
      "text/plain": [
       "'Sara'"
      ]
     },
     "execution_count": 23,
     "metadata": {},
     "output_type": "execute_result"
    }
   ],
   "source": [
    "#4. Get cell at row 2, column 0 (Sara’s name)\n",
    "df.iloc[2, 0]\n"
   ]
  },
  {
   "cell_type": "code",
   "execution_count": null,
   "id": "1c246f55-7f75-4686-8da8-60e1a1afbfce",
   "metadata": {},
   "outputs": [],
   "source": []
  }
 ],
 "metadata": {
  "kernelspec": {
   "display_name": "Python 3 (ipykernel)",
   "language": "python",
   "name": "python3"
  },
  "language_info": {
   "codemirror_mode": {
    "name": "ipython",
    "version": 3
   },
   "file_extension": ".py",
   "mimetype": "text/x-python",
   "name": "python",
   "nbconvert_exporter": "python",
   "pygments_lexer": "ipython3",
   "version": "3.12.4"
  }
 },
 "nbformat": 4,
 "nbformat_minor": 5
}
